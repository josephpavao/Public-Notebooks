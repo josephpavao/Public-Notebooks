{
 "cells": [
  {
   "cell_type": "code",
   "execution_count": 1,
   "id": "9468cc2a",
   "metadata": {},
   "outputs": [
    {
     "name": "stderr",
     "output_type": "stream",
     "text": [
      "C:\\Users\\joseph.pavao_tc\\anaconda3\\lib\\site-packages\\xgboost\\compat.py:36: FutureWarning: pandas.Int64Index is deprecated and will be removed from pandas in a future version. Use pandas.Index with the appropriate dtype instead.\n",
      "  from pandas import MultiIndex, Int64Index\n"
     ]
    }
   ],
   "source": [
    "### Introduction and important caveats\n",
    "\n",
    "# This notebook addresses the challenges of classifying new customers based on previous customer data \n",
    "# regarding the purchase of term deposits for a bank. The challenge and data are avaiailable at Kaggle:\n",
    "# https://www.kaggle.com/datasets/prakharrathi25/banking-dataset-marketing-targets\n",
    "# The author of the challenge requires that we cite the original article analyzing this dataset:\n",
    "# S. Moro, P. Cortez and P. Rita. A Data-Driven Approach to Predict the Success of Bank Telemarketing.\n",
    "# Decision Support Systems, Elsevier, 62:22-31, June 2014\n",
    "\n",
    "# According to the authors of the article, this dataset is real world data adapted for public use:\n",
    "# \"Real-world data were collected from a Portuguese marketing campaign \n",
    "# related with bank deposit subscription.\" (MORO, S. & CORTEZ, P. 2011, p. 1)\n",
    "# We have not read the article or challenge submissions so our analysis is not skewed.\n",
    "\n",
    "## Data cleaning, preparation and transformation strategies\n",
    "\n",
    "# According to the authors of the challenge on Kaggle, the data is relatively clean and without missing values on the 18 columns\n",
    "# However, we see the following problems with the data that must be addressed first:\n",
    "# 1. Obtain the year variable, dates can be important to detect economic and business fluctuations\n",
    "# 2. Convert 'unknown' and '-1' values to missing and decide for imputation, feature engineering or dropping\n",
    "# 3. Convert string columns to boolean and categorical\n",
    "# 4. Transform categorical collumns to dummie columns\n",
    "# 5. Address class imbalance in label 'y' with resampling (therefore, we will not use the suggested test split)\n",
    "\n",
    "\n",
    "### Importing Required Packages and Modules\n",
    "\n",
    "## Importing Packages\n",
    "\n",
    "import pandas as pd\n",
    "import numpy as np\n",
    "from calendar import month_abbr\n",
    "from sklearn.utils import resample\n",
    "from sklearn.model_selection import train_test_split\n",
    "from sklearn.preprocessing import OneHotEncoder\n",
    "import xgboost as xgb\n",
    "from sklearn.metrics import accuracy_score, classification_report, confusion_matrix, roc_auc_score\n",
    "from sklearn.model_selection import RandomizedSearchCV\n",
    "import matplotlib.pyplot as plt\n"
   ]
  },
  {
   "cell_type": "code",
   "execution_count": 2,
   "id": "b10df7bb",
   "metadata": {},
   "outputs": [
    {
     "name": "stdout",
     "output_type": "stream",
     "text": [
      "Rows duplicated in combined dataset: 4521\n",
      "Unique rows in test dataset: 0\n"
     ]
    }
   ],
   "source": [
    "### Loading and Cleaning Data\n",
    "\n",
    "## Loading data from local file downloaded from Kaggle challenge page and marking origin \n",
    "\n",
    "test = pd.read_csv('test.csv', sep=';')\n",
    "train = pd.read_csv('train.csv', sep=';')\n",
    "\n",
    "## Checking if Test records are contained in Train, since this is not clear\n",
    "\n",
    "# Creating 'origin' collumn for identification after combining\n",
    "test = test.assign(origin='test')\n",
    "train = train.assign(origin='train')\n",
    "\n",
    "# Combining Training and Test datasets\n",
    "combined = pd.concat([train, test])\n",
    "\n",
    "# Creating 'dup' column to identify any duplicates\n",
    "combined['dup'] = combined.drop(['origin'], axis = 1).duplicated()\n",
    "\n",
    "rows_dup = combined[(combined.dup == True)].shape[0]\n",
    "print('Rows duplicated in combined dataset: %s' % (rows_dup))\n",
    "\n",
    "uniq_rec = combined[(combined.origin == 'test') & (combined.dup == False)].shape[0]\n",
    "print('Unique rows in test dataset: %s' % (uniq_rec))\n",
    "\n",
    "# We can see that all records in 'test' are also in 'train', so we can procede with only train, which we will rename to df\n",
    "# After droppinh the no longer needed origin collumn\n",
    "\n",
    "df = train.drop(['origin'], axis=1)"
   ]
  },
  {
   "cell_type": "code",
   "execution_count": 3,
   "id": "085b7ed2",
   "metadata": {},
   "outputs": [],
   "source": [
    "## Obtaining year variable\n",
    "start_09 = df[df.month == 'jan'].index[1]\n",
    "end_09 = df[df.month == 'dec'].index[-1]\n",
    "end_08 = start_09 -1\n",
    "start_10 = end_09 +1\n",
    "\n",
    "df_08 = df.iloc[:end_08,:].assign(year=2008)\n",
    "df_09 = df.iloc[start_09:end_09,:].assign(year=2009)\n",
    "df_10 = df.iloc[start_10:,:].assign(year=2010)\n",
    "\n",
    "df_year = pd.concat([df_08, df_09, df_10])\n",
    "\n",
    "# Converting month to numeric\n",
    "df_year['month'] = df_year.month.str.title()\n",
    "abbr_to_num = {name: num for num, name in enumerate(month_abbr) if num}\n",
    "df_year['month'] = df_year.month.map(abbr_to_num)"
   ]
  },
  {
   "cell_type": "code",
   "execution_count": 4,
   "id": "fa38fea0",
   "metadata": {},
   "outputs": [
    {
     "name": "stdout",
     "output_type": "stream",
     "text": [
      "df missing percentages: \n",
      "age          0.0\n",
      "job          0.0\n",
      "marital      0.0\n",
      "education    0.0\n",
      "default      0.0\n",
      "balance      0.0\n",
      "housing      0.0\n",
      "loan         0.0\n",
      "contact      0.0\n",
      "day          0.0\n",
      "month        0.0\n",
      "duration     0.0\n",
      "campaign     0.0\n",
      "pdays        0.0\n",
      "previous     0.0\n",
      "poutcome     0.0\n",
      "y            0.0\n",
      "dtype: float64\n"
     ]
    }
   ],
   "source": [
    "## Addressing 'unknown' values in datasets\n",
    "\n",
    "df_year.replace(to_replace='unknown', value=np.nan, inplace=True)\n",
    "\n",
    "# Here we address the '-1' value in pdays collumn to create a new feature 'contacted in previous campaign'\n",
    "df_year['contact_prev_camp'] = np.select([df_year.pdays == -1, df_year.pdays != -1], ['no', 'yes'])\n",
    "df_year.pdays.replace(to_replace=-1, value=np.nan, inplace=True)\n",
    "\n",
    "# Let´s investigate presence of missing values\n",
    "print('df missing percentages: ')\n",
    "print(df.isnull().mean())\n",
    "\n",
    "# Considering close to 80% of records contain missing values for pdays and poutcome and 30% for contact,\n",
    "# we will drop these features\n",
    "\n",
    "redu = ['pdays', 'poutcome', 'contact']\n",
    "df_redu = df_year.drop(columns=redu)\n"
   ]
  },
  {
   "cell_type": "code",
   "execution_count": 5,
   "id": "d6808fc6",
   "metadata": {
    "scrolled": true
   },
   "outputs": [
    {
     "name": "stdout",
     "output_type": "stream",
     "text": [
      "First 5 rows of df_redu\n",
      "   age           job  marital  education default  balance housing loan  day  \\\n",
      "0   58    management  married   tertiary      no     2143     yes   no    5   \n",
      "1   44    technician   single  secondary      no       29     yes   no    5   \n",
      "2   33  entrepreneur  married  secondary      no        2     yes  yes    5   \n",
      "3   47   blue-collar  married        NaN      no     1506     yes   no    5   \n",
      "4   33           NaN   single        NaN      no        1      no   no    5   \n",
      "\n",
      "   month  duration  campaign  previous   y  year contact_prev_camp  \n",
      "0      5       261         1         0  no  2008                no  \n",
      "1      5       151         1         0  no  2008                no  \n",
      "2      5        76         1         0  no  2008                no  \n",
      "3      5        92         1         0  no  2008                no  \n",
      "4      5       198         1         0  no  2008                no  \n"
     ]
    }
   ],
   "source": [
    "## Converting yes/no variables to 1 and 0\n",
    "\n",
    "# Eye-balling yes/no variables\n",
    "print('First 5 rows of df_redu')\n",
    "print(df_redu.head())\n",
    "\n",
    "# Defining columns\n",
    "yesno = ['default', 'housing', 'loan', 'y', 'contact_prev_camp']\n",
    "\n",
    "# Replacing values\n",
    "df_redu[yesno] = df_redu[yesno].replace(to_replace=['no', 'yes'], value=[0, 1])"
   ]
  },
  {
   "cell_type": "code",
   "execution_count": 117,
   "id": "d39fa219",
   "metadata": {},
   "outputs": [
    {
     "name": "stdout",
     "output_type": "stream",
     "text": [
      "Education Most Frequent Value: secondary\n",
      "Job Most Frequent Value: blue-collar\n",
      "Conversion Rate for Secondary Educ: 0.11\n",
      "Conversion Rate for unknown Educ: 0.14\n",
      "Conversion Rate for Blue-Collar Job: 0.07\n",
      "Conversion Rate for unknown Job: 0.12\n",
      "Number of rows in full dataset: 45209\n",
      "Number of rows in data dataset: 43192\n",
      "df_clean missing percentages\n",
      "age                  0.0\n",
      "job                  0.0\n",
      "marital              0.0\n",
      "education            0.0\n",
      "default              0.0\n",
      "balance              0.0\n",
      "housing              0.0\n",
      "loan                 0.0\n",
      "day                  0.0\n",
      "month                0.0\n",
      "duration             0.0\n",
      "campaign             0.0\n",
      "previous             0.0\n",
      "y                    0.0\n",
      "year                 0.0\n",
      "contact_prev_camp    0.0\n",
      "dtype: float64\n"
     ]
    },
    {
     "data": {
      "text/html": [
       "<div>\n",
       "<style scoped>\n",
       "    .dataframe tbody tr th:only-of-type {\n",
       "        vertical-align: middle;\n",
       "    }\n",
       "\n",
       "    .dataframe tbody tr th {\n",
       "        vertical-align: top;\n",
       "    }\n",
       "\n",
       "    .dataframe thead th {\n",
       "        text-align: right;\n",
       "    }\n",
       "</style>\n",
       "<table border=\"1\" class=\"dataframe\">\n",
       "  <thead>\n",
       "    <tr style=\"text-align: right;\">\n",
       "      <th></th>\n",
       "      <th>age</th>\n",
       "      <th>job</th>\n",
       "      <th>marital</th>\n",
       "      <th>education</th>\n",
       "      <th>default</th>\n",
       "      <th>balance</th>\n",
       "      <th>housing</th>\n",
       "      <th>loan</th>\n",
       "      <th>day</th>\n",
       "      <th>month</th>\n",
       "      <th>duration</th>\n",
       "      <th>campaign</th>\n",
       "      <th>previous</th>\n",
       "      <th>y</th>\n",
       "      <th>year</th>\n",
       "      <th>contact_prev_camp</th>\n",
       "    </tr>\n",
       "  </thead>\n",
       "  <tbody>\n",
       "    <tr>\n",
       "      <th>0</th>\n",
       "      <td>58</td>\n",
       "      <td>management</td>\n",
       "      <td>married</td>\n",
       "      <td>tertiary</td>\n",
       "      <td>0</td>\n",
       "      <td>2143</td>\n",
       "      <td>1</td>\n",
       "      <td>0</td>\n",
       "      <td>5</td>\n",
       "      <td>5</td>\n",
       "      <td>261</td>\n",
       "      <td>1</td>\n",
       "      <td>0</td>\n",
       "      <td>0</td>\n",
       "      <td>2008</td>\n",
       "      <td>0</td>\n",
       "    </tr>\n",
       "    <tr>\n",
       "      <th>1</th>\n",
       "      <td>44</td>\n",
       "      <td>technician</td>\n",
       "      <td>single</td>\n",
       "      <td>secondary</td>\n",
       "      <td>0</td>\n",
       "      <td>29</td>\n",
       "      <td>1</td>\n",
       "      <td>0</td>\n",
       "      <td>5</td>\n",
       "      <td>5</td>\n",
       "      <td>151</td>\n",
       "      <td>1</td>\n",
       "      <td>0</td>\n",
       "      <td>0</td>\n",
       "      <td>2008</td>\n",
       "      <td>0</td>\n",
       "    </tr>\n",
       "    <tr>\n",
       "      <th>2</th>\n",
       "      <td>33</td>\n",
       "      <td>entrepreneur</td>\n",
       "      <td>married</td>\n",
       "      <td>secondary</td>\n",
       "      <td>0</td>\n",
       "      <td>2</td>\n",
       "      <td>1</td>\n",
       "      <td>1</td>\n",
       "      <td>5</td>\n",
       "      <td>5</td>\n",
       "      <td>76</td>\n",
       "      <td>1</td>\n",
       "      <td>0</td>\n",
       "      <td>0</td>\n",
       "      <td>2008</td>\n",
       "      <td>0</td>\n",
       "    </tr>\n",
       "    <tr>\n",
       "      <th>5</th>\n",
       "      <td>35</td>\n",
       "      <td>management</td>\n",
       "      <td>married</td>\n",
       "      <td>tertiary</td>\n",
       "      <td>0</td>\n",
       "      <td>231</td>\n",
       "      <td>1</td>\n",
       "      <td>0</td>\n",
       "      <td>5</td>\n",
       "      <td>5</td>\n",
       "      <td>139</td>\n",
       "      <td>1</td>\n",
       "      <td>0</td>\n",
       "      <td>0</td>\n",
       "      <td>2008</td>\n",
       "      <td>0</td>\n",
       "    </tr>\n",
       "    <tr>\n",
       "      <th>6</th>\n",
       "      <td>28</td>\n",
       "      <td>management</td>\n",
       "      <td>single</td>\n",
       "      <td>tertiary</td>\n",
       "      <td>0</td>\n",
       "      <td>447</td>\n",
       "      <td>1</td>\n",
       "      <td>1</td>\n",
       "      <td>5</td>\n",
       "      <td>5</td>\n",
       "      <td>217</td>\n",
       "      <td>1</td>\n",
       "      <td>0</td>\n",
       "      <td>0</td>\n",
       "      <td>2008</td>\n",
       "      <td>0</td>\n",
       "    </tr>\n",
       "  </tbody>\n",
       "</table>\n",
       "</div>"
      ],
      "text/plain": [
       "   age           job  marital  education  default  balance  housing  loan  \\\n",
       "0   58    management  married   tertiary        0     2143        1     0   \n",
       "1   44    technician   single  secondary        0       29        1     0   \n",
       "2   33  entrepreneur  married  secondary        0        2        1     1   \n",
       "5   35    management  married   tertiary        0      231        1     0   \n",
       "6   28    management   single   tertiary        0      447        1     1   \n",
       "\n",
       "   day  month  duration  campaign  previous  y  year  contact_prev_camp  \n",
       "0    5      5       261         1         0  0  2008                  0  \n",
       "1    5      5       151         1         0  0  2008                  0  \n",
       "2    5      5        76         1         0  0  2008                  0  \n",
       "5    5      5       139         1         0  0  2008                  0  \n",
       "6    5      5       217         1         0  0  2008                  0  "
      ]
     },
     "execution_count": 117,
     "metadata": {},
     "output_type": "execute_result"
    }
   ],
   "source": [
    "## Mising Data - education and job variables\n",
    "# Investigating if education and job are MCAR for less than 5% of data\n",
    "\n",
    "# Obtaining the modes of education and job in full dataset\n",
    "mode_educ = str(df_redu['education'].mode()[0])\n",
    "mode_job = str(df_redu['job'].mode()[0])\n",
    "\n",
    "print('Education Most Frequent Value: %s' % (mode_educ))\n",
    "print('Job Most Frequent Value: %s' % (mode_job))\n",
    "\n",
    "# Checking conversion rate for mode categories and missing\n",
    "conv_rate_sec_educ = round(df_redu[(df_redu.education == 'secondary') & (df_redu.y == 1)].shape[0] / df_redu[df_redu.education == 'secondary'].shape[0], 2)\n",
    "print('Conversion Rate for Secondary Educ: %s' % (conv_rate_sec_educ))\n",
    "\n",
    "conv_rate_missing_educ = round(df_redu[(df_redu.education.isnull()) & (df_redu.y == 1)].shape[0] / df_redu[df_redu.education.isnull()].shape[0], 2)\n",
    "print('Conversion Rate for unknown Educ: %s' % (conv_rate_missing_educ))\n",
    "\n",
    "conv_rate_bluec_job = round(df_redu[(df_redu.job == 'blue-collar') & (df_redu.y == 1)].shape[0] / df_redu[df_redu.job == 'blue-collar'].shape[0], 2)\n",
    "print('Conversion Rate for Blue-Collar Job: %s' % (conv_rate_bluec_job))\n",
    "\n",
    "conv_rate_missing_job = round(df_redu[(df_redu.job.isnull()) & (df_redu.y == 1)].shape[0] / df_redu[df_redu.job.isnull()].shape[0], 2)\n",
    "print('Conversion Rate for unknown Job: %s' % (conv_rate_missing_job))\n",
    "\n",
    "# As we can see, the differences in outcomes among these groups DO NOT WARRENT 100% the use of Mode Imputation.\n",
    "# Therefore, we will drop the lines with missing values in these columns\n",
    "\n",
    "df_clean = df_redu.dropna()\n",
    "nrows_full = df_redu.shape[0]\n",
    "nrows_clean = df_clean.shape[0]\n",
    "\n",
    "print('Number of rows in full dataset: %s' % (nrows_full))\n",
    "print('Number of rows in data dataset: %s' % (nrows_clean))\n",
    "\n",
    "#Final checks for completeness of datasetsa\n",
    "\n",
    "print('df_clean missing percentages')\n",
    "print(df_clean.isnull().mean())\n",
    "\n",
    "df_clean.head()\n"
   ]
  },
  {
   "cell_type": "code",
   "execution_count": 118,
   "id": "1ec0a9e7",
   "metadata": {},
   "outputs": [
    {
     "name": "stdout",
     "output_type": "stream",
     "text": [
      "y already removed\n"
     ]
    },
    {
     "name": "stderr",
     "output_type": "stream",
     "text": [
      "C:\\Users\\joseph.pavao_tc\\AppData\\Local\\Temp\\ipykernel_19412\\3407912237.py:7: SettingWithCopyWarning: \n",
      "A value is trying to be set on a copy of a slice from a DataFrame.\n",
      "Try using .loc[row_indexer,col_indexer] = value instead\n",
      "\n",
      "See the caveats in the documentation: https://pandas.pydata.org/pandas-docs/stable/user_guide/indexing.html#returning-a-view-versus-a-copy\n",
      "  df_clean[cats] = df_clean[cats].astype('category')\n"
     ]
    }
   ],
   "source": [
    "## Preparing our Data for XGBoost - Encoding Categorical Variavles \n",
    "\n",
    "# Defining Categorical Collumns\n",
    "cats = ['job', 'marital', 'education']\n",
    "\n",
    "# Converting Strings to Category Variables\n",
    "df_clean[cats] = df_clean[cats].astype('category')\n",
    "\n",
    "# One-Hot Encoding of Categorical Variables\n",
    "df_clean = pd.get_dummies(df_clean, columns=cats, prefix=['j', 'ma', 'e'], drop_first=True)\n",
    "\n",
    "# Converting Boolean Variables\n",
    "try:\n",
    "    yesno.remove('y')\n",
    "except:\n",
    "    print('y already removed')\n",
    "\n",
    "df_clean[yesno] = df_clean[yesno].astype('bool')"
   ]
  },
  {
   "cell_type": "code",
   "execution_count": 126,
   "id": "b41cc06e",
   "metadata": {},
   "outputs": [
    {
     "name": "stdout",
     "output_type": "stream",
     "text": [
      "Full Feature Normalized Variance:\n",
      "age                  6.650542e-02\n",
      "default              5.423399e+01\n",
      "balance              5.047941e+00\n",
      "housing              7.781251e-01\n",
      "loan                 5.077506e+00\n",
      "day                  2.760280e-01\n",
      "month                1.534415e-01\n",
      "duration             9.987244e-01\n",
      "campaign             1.234022e+00\n",
      "previous             1.590826e+01\n",
      "y                    7.602446e+00\n",
      "year                 8.913434e-08\n",
      "contact_prev_camp    4.459843e+00\n",
      "j_blue-collar        3.655398e+00\n",
      "j_entrepreneur       2.961160e+01\n",
      "j_housemaid          3.514475e+01\n",
      "j_management         3.687226e+00\n",
      "j_retired            1.913657e+01\n",
      "j_self-employed      2.704738e+01\n",
      "j_services           9.787439e+00\n",
      "j_student            5.473288e+01\n",
      "j_technician         4.872581e+00\n",
      "j_unemployed         3.290343e+01\n",
      "ma_married           6.647678e-01\n",
      "ma_single            2.534882e+00\n",
      "e_secondary          8.672978e-01\n",
      "e_tertiary           2.257122e+00\n",
      "dtype: float64\n",
      "Correlation Heatmaps: Full & Reduced Feature sets\n"
     ]
    },
    {
     "data": {
      "text/plain": [
       "<AxesSubplot:>"
      ]
     },
     "execution_count": 126,
     "metadata": {},
     "output_type": "execute_result"
    },
    {
     "data": {
      "image/png": "[encoded data removed]",
      "text/plain": [
       "<Figure size 792x648 with 2 Axes>"
      ]
     },
     "metadata": {},
     "output_type": "display_data"
    },
    {
     "data": {
      "image/png": "[encoded data removed]",
      "text/plain": [
       "<Figure size 792x648 with 2 Axes>"
      ]
     },
     "metadata": {},
     "output_type": "display_data"
    }
   ],
   "source": [
    "## Investigating All Feature Variance and Covariance\n",
    "\n",
    "df_norm = df_clean / df_clean.mean()\n",
    "print('Full Feature Normalized Variance:')\n",
    "print(df_norm.var())\n",
    "\n",
    "# Only the 'year' variable that we've constructed has a variance with order of magnitude in the 100 millionth (8.913434e-08)\n",
    "# but we will keep it for now since it may help model prediction\n",
    "\n",
    "## Plotting Feature Correlations\n",
    "import seaborn as sns\n",
    "\n",
    "# Correlation Matrix\n",
    "corr = df_clean.corr()\n",
    "\n",
    "# Setting up Correlation Heatmap plot\n",
    "print('Correlation Heatmaps: Full & Reduced Feature sets')\n",
    "sns.set_theme(style=\"white\")\n",
    "mask = np.triu(np.ones_like(corr, dtype=bool))\n",
    "f, ax = plt.subplots(figsize=(11, 9))\n",
    "cmap = sns.diverging_palette(230, 20, as_cmap=True)\n",
    "sns.heatmap(corr, mask=mask, cmap=cmap, vmax=.3, center=0,\n",
    "            square=True, linewidths=.5, cbar_kws={\"shrink\": .5})\n",
    "\n",
    "# We see that ma_married is highly correlated with ma_single, as e_secondary is with e_tertiary. We will drop one of each.\n",
    "\n",
    "redund = ['ma_single', 'e_secondary']\n",
    "\n",
    "df_redu = df_clean.drop(redund, axis=1)\n",
    "\n",
    "corr = df_redu.corr()\n",
    "\n",
    "sns.set_theme(style=\"white\")\n",
    "mask = np.triu(np.ones_like(corr, dtype=bool))\n",
    "f, ax = plt.subplots(figsize=(11, 9))\n",
    "cmap = sns.diverging_palette(230, 20, as_cmap=True)\n",
    "sns.heatmap(corr, mask=mask, cmap=cmap, vmax=.3, center=0,\n",
    "            square=True, linewidths=.5, cbar_kws={\"shrink\": .5})\n",
    "\n",
    "# Feature Correlation seems within acceptable bounds after removing redundant variables"
   ]
  },
  {
   "cell_type": "code",
   "execution_count": 127,
   "id": "4fee46d4",
   "metadata": {},
   "outputs": [
    {
     "name": "stdout",
     "output_type": "stream",
     "text": [
      "Percent of positive class in sample: 0.12\n",
      "Number of obs: 43192\n",
      "-----------------------------------------------\n",
      "Percent of positive class in sample: 0.5\n",
      "Number of obs: 76342\n"
     ]
    }
   ],
   "source": [
    "## Dealing with class imbalance\n",
    "\n",
    "bal = round(df_redu.y.value_counts()[1] / df_redu.shape[0], 2)\n",
    "print('Percent of positive class in sample: %s' % (bal))\n",
    "print('Number of obs:', df_redu.shape[0])\n",
    "\n",
    "# Upsampling minority class\n",
    "min = df_redu[df_redu.y == 1]\n",
    "maj = df_redu[df_redu.y == 0]\n",
    "min_up = resample(min, replace=True, n_samples=maj.shape[0])\n",
    "df_bal = pd.concat([maj, min_up])\n",
    "\n",
    "# Checking Balance of New dataframe\n",
    "\n",
    "bal = round(df_bal.y.value_counts()[1] / df_bal.shape[0], 2)\n",
    "print('-----------------------------------------------')\n",
    "print('Percent of positive class in sample: %s' % (bal))\n",
    "print('Number of obs:', df_bal.shape[0])"
   ]
  },
  {
   "cell_type": "code",
   "execution_count": 128,
   "id": "7629bc22",
   "metadata": {},
   "outputs": [],
   "source": [
    "# Splitting data - 80% for training and tuning, 20% held out for performance validation\n",
    "\n",
    "X_train, X_test, y_train, y_test = train_test_split(df_bal.drop('y', axis=1), df_bal['y'], test_size=0.2, random_state=123)"
   ]
  },
  {
   "cell_type": "code",
   "execution_count": 129,
   "id": "91fdb022",
   "metadata": {},
   "outputs": [
    {
     "name": "stderr",
     "output_type": "stream",
     "text": [
      "C:\\Users\\joseph.pavao_tc\\anaconda3\\lib\\site-packages\\xgboost\\sklearn.py:1224: UserWarning: The use of label encoder in XGBClassifier is deprecated and will be removed in a future release. To remove this warning, do the following: 1) Pass option use_label_encoder=False when constructing XGBClassifier object; and 2) Encode your labels (y) as integers starting with 0, i.e. 0, 1, 2, ..., [num_class - 1].\n",
      "  warnings.warn(label_encoder_deprecation_msg, UserWarning)\n",
      "C:\\Users\\joseph.pavao_tc\\anaconda3\\lib\\site-packages\\xgboost\\data.py:262: FutureWarning: pandas.Int64Index is deprecated and will be removed from pandas in a future version. Use pandas.Index with the appropriate dtype instead.\n",
      "  elif isinstance(data.columns, (pd.Int64Index, pd.RangeIndex)):\n"
     ]
    },
    {
     "data": {
      "text/plain": [
       "XGBClassifier(base_score=0.5, booster='gbtree', colsample_bylevel=1,\n",
       "              colsample_bynode=1, colsample_bytree=1, enable_categorical=False,\n",
       "              eval_metric=<function roc_auc_score at 0x00000254C77304C0>,\n",
       "              gamma=0, gpu_id=-1, importance_type=None,\n",
       "              interaction_constraints='', learning_rate=0.300000012,\n",
       "              max_delta_step=0, max_depth=6, min_child_weight=1, missing=nan,\n",
       "              monotone_constraints='()', n_estimators=10, n_jobs=8,\n",
       "              num_parallel_tree=1, objective='reg:logistic', predictor='auto',\n",
       "              random_state=100, reg_alpha=0, reg_lambda=1, scale_pos_weight=1,\n",
       "              seed=100, subsample=1, tree_method='exact', validate_parameters=1, ...)"
      ]
     },
     "execution_count": 129,
     "metadata": {},
     "output_type": "execute_result"
    }
   ],
   "source": [
    "## Training the Model\n",
    "from sklearn.metrics import f1_score, roc_auc_score\n",
    "\n",
    "# Instantiating Classifier\n",
    "xgb_clf = xgb.XGBClassifier(objective = 'reg:logistic'\n",
    "                            , n_estimators = 10\n",
    "                            , seed = 100\n",
    "                            , eval_metric=roc_auc_score)\n",
    "\n",
    "# Fiitting Model to Training Data\n",
    "xgb_clf.fit(X_train, y_train)\n"
   ]
  },
  {
   "cell_type": "code",
   "execution_count": 130,
   "id": "b0c07812",
   "metadata": {},
   "outputs": [
    {
     "name": "stdout",
     "output_type": "stream",
     "text": [
      "Feature Importances in XGBoost Classifier: \n",
      "                   feature_importance\n",
      "year                         0.292092\n",
      "housing                      0.290460\n",
      "duration                     0.197266\n",
      "month                        0.057115\n",
      "e_tertiary                   0.030663\n",
      "day                          0.027906\n",
      "default                      0.017288\n",
      "j_management                 0.011727\n",
      "balance                      0.010877\n",
      "loan                         0.010700\n",
      "age                          0.010128\n",
      "j_blue-collar                0.008349\n",
      "campaign                     0.008267\n",
      "previous                     0.007886\n",
      "ma_married                   0.006375\n",
      "j_housemaid                  0.003924\n",
      "j_retired                    0.002967\n",
      "j_unemployed                 0.002719\n",
      "j_self-employed              0.002683\n",
      "j_services                   0.000609\n",
      "contact_prev_camp            0.000000\n",
      "j_entrepreneur               0.000000\n",
      "j_student                    0.000000\n",
      "j_technician                 0.000000\n"
     ]
    }
   ],
   "source": [
    "## Plotting Feature Importances\n",
    "print('Feature Importances in XGBoost Classifier: ')\n",
    "print(pd.DataFrame(xgb_clf.feature_importances_, index=X_test.columns\n",
    "                   , columns=['feature_importance']).sort_values(by='feature_importance', axis=0, ascending=False))\n",
    "\n",
    "# We can see that year, housing and duration have the strongest feature importance for our simple model\n",
    "# while contact_prev_camp, j_entrepreneur, j_student, j_technician have zero importance for model predictions"
   ]
  },
  {
   "cell_type": "code",
   "execution_count": 131,
   "id": "b27d9ed3",
   "metadata": {},
   "outputs": [
    {
     "name": "stderr",
     "output_type": "stream",
     "text": [
      "C:\\Users\\joseph.pavao_tc\\anaconda3\\lib\\site-packages\\xgboost\\data.py:262: FutureWarning: pandas.Int64Index is deprecated and will be removed from pandas in a future version. Use pandas.Index with the appropriate dtype instead.\n",
      "  elif isinstance(data.columns, (pd.Int64Index, pd.RangeIndex)):\n"
     ]
    },
    {
     "name": "stdout",
     "output_type": "stream",
     "text": [
      "Train Accuract Score: 0.8899022481292879\n",
      "Test Accuracy Score: 0.8914794682035497\n",
      "              precision    recall  f1-score   support\n",
      "\n",
      "           0       0.93      0.84      0.88     30540\n",
      "           1       0.85      0.94      0.90     30533\n",
      "\n",
      "    accuracy                           0.89     61073\n",
      "   macro avg       0.89      0.89      0.89     61073\n",
      "weighted avg       0.89      0.89      0.89     61073\n",
      "\n",
      "-----------------------------------------------\n",
      "              precision    recall  f1-score   support\n",
      "\n",
      "           0       0.93      0.85      0.89      7631\n",
      "           1       0.86      0.94      0.90      7638\n",
      "\n",
      "    accuracy                           0.89     15269\n",
      "   macro avg       0.89      0.89      0.89     15269\n",
      "weighted avg       0.89      0.89      0.89     15269\n",
      "\n",
      "ROC AUC score: 0.89145845821414\n"
     ]
    }
   ],
   "source": [
    "### Making Predictions on the Test Set and Evaluating Model Performance\n",
    "from sklearn.metrics import classification_report, roc_auc_score\n",
    "\n",
    "y_pred_train = xgb_clf.predict(X_train)\n",
    "y_pred = xgb_clf.predict(X_test)\n",
    "\n",
    "## Evaluating Model Performance\n",
    "\n",
    "# Computing Accutacy\n",
    "print('Train Accuract Score:', accuracy_score(y_train, xgb_clf.predict(X_train)))\n",
    "print('Test Accuracy Score:', accuracy_score(y_test, y_pred))\n",
    "\n",
    "# Displaying Confusion Matrix\n",
    "cm = confusion_matrix(y_test, y_pred, labels=xgb_clf.classes_)\n",
    "\n",
    "print(classification_report(y_train, y_pred_train))\n",
    "print('-----------------------------------------------')\n",
    "print(classification_report(y_test, y_pred))\n",
    "print('ROC AUC score: %s' % (roc_auc_score(y_test, y_pred)))\n",
    "\n",
    "# As we can see, the model is not overfitting the training data, which is positive"
   ]
  },
  {
   "cell_type": "code",
   "execution_count": 132,
   "id": "2a1008dc",
   "metadata": {},
   "outputs": [
    {
     "name": "stderr",
     "output_type": "stream",
     "text": [
      "C:\\Users\\joseph.pavao_tc\\anaconda3\\lib\\site-packages\\xgboost\\sklearn.py:1224: UserWarning: The use of label encoder in XGBClassifier is deprecated and will be removed in a future release. To remove this warning, do the following: 1) Pass option use_label_encoder=False when constructing XGBClassifier object; and 2) Encode your labels (y) as integers starting with 0, i.e. 0, 1, 2, ..., [num_class - 1].\n",
      "  warnings.warn(label_encoder_deprecation_msg, UserWarning)\n",
      "C:\\Users\\joseph.pavao_tc\\anaconda3\\lib\\site-packages\\xgboost\\data.py:262: FutureWarning: pandas.Int64Index is deprecated and will be removed from pandas in a future version. Use pandas.Index with the appropriate dtype instead.\n",
      "  elif isinstance(data.columns, (pd.Int64Index, pd.RangeIndex)):\n"
     ]
    },
    {
     "name": "stdout",
     "output_type": "stream",
     "text": [
      "[17:20:31] WARNING: C:/Users/Administrator/workspace/xgboost-win64_release_1.5.1/src/learner.cc:1115: Starting in XGBoost 1.3.0, the default evaluation metric used with the objective 'binary:logistic' was changed from 'error' to 'logloss'. Explicitly set eval_metric if you'd like to restore the old behavior.\n",
      "Best params: {'reg_lambda': 1.5, 'reg_alpha': 0.5, 'n_estimators': 900, 'max_depth': 10, 'learning_rate': 0.1, 'gamma': 1, 'booster': 'gbtree', 'base_score': 0.1}\n",
      "Best score: 0.9842886518324322\n"
     ]
    }
   ],
   "source": [
    "## Hyperpamater Tuning\n",
    "\n",
    "# Let´s see how much we can improve our baseline performance of 89% ROC AUC score\n",
    "# Now using cross-validation, 5-fold for symetry with the validation hold-out proportion - This takes a few minutes\n",
    "\n",
    "params_grid = {\n",
    "    'n_estimators': [200, 500, 750, 900],\n",
    "    'learning_rate': [0.01, 0.05, 0.1, 0.2],\n",
    "    'booster': ['gbtree', 'gblinear'],\n",
    "    'gamma': [0, 0.5, 1, 1.5, 2],\n",
    "    'reg_alpha': [0, 0.1, 0.5, 1, 1.5, 2],\n",
    "    'reg_lambda': [0, 0.1, 0.5, 1, 1.5, 2],\n",
    "    'base_score': [0.001, 0.025, 0.05, 0.1],\n",
    "    'max_depth' : [3, 6, 10, 15]\n",
    "}\n",
    "\n",
    "rs = RandomizedSearchCV(xgb.XGBClassifier(n_jobs=-1, eval_metric=roc_auc_score), params_grid, n_jobs=-1, cv=5, scoring='roc_auc')\n",
    "rs.fit(X_train, y_train)\n",
    "\n",
    "print('Best params:', rs.best_params_)\n",
    "print('Best score:', rs.best_score_)\n",
    "\n",
    "# As we start to allow more extreme hyperparameter values, our model starts overfitting\n",
    "# at around 99% ROC AUC for the full training set and 95,8% of the test hold-out set"
   ]
  },
  {
   "cell_type": "code",
   "execution_count": 133,
   "id": "bcb4b677",
   "metadata": {},
   "outputs": [
    {
     "name": "stdout",
     "output_type": "stream",
     "text": [
      "Classification Report Training: \n",
      "              precision    recall  f1-score   support\n",
      "\n",
      "           0       1.00      0.98      0.99     30540\n",
      "           1       0.98      1.00      0.99     30533\n",
      "\n",
      "    accuracy                           0.99     61073\n",
      "   macro avg       0.99      0.99      0.99     61073\n",
      "weighted avg       0.99      0.99      0.99     61073\n",
      "\n",
      "Roc auc score training:  0.9916993730746324\n",
      "-----------------------------------------------\n",
      "Classification Report Test Data: \n",
      "              precision    recall  f1-score   support\n",
      "\n",
      "           0       1.00      0.92      0.96      7631\n",
      "           1       0.92      1.00      0.96      7638\n",
      "\n",
      "    accuracy                           0.96     15269\n",
      "   macro avg       0.96      0.96      0.96     15269\n",
      "weighted avg       0.96      0.96      0.96     15269\n",
      "\n",
      "Roc auc score test 0.958263011477728\n"
     ]
    }
   ],
   "source": [
    "## Evaluating Tuned Model Performance\n",
    "\n",
    "y_train_pred = rs.predict(X_train)\n",
    "y_pred = rs.predict(X_test)\n",
    "\n",
    "print('Classification Report Training: ')\n",
    "print(classification_report(y_train, y_train_pred))\n",
    "print('Roc auc score training: ', roc_auc_score(y_train, y_train_pred))\n",
    "print('-----------------------------------------------')\n",
    "print('Classification Report Test Data: ')\n",
    "print(classification_report(y_test, y_pred))\n",
    "print('Roc auc score test', roc_auc_score(y_test, y_pred))"
   ]
  },
  {
   "cell_type": "code",
   "execution_count": 134,
   "id": "48b337e5",
   "metadata": {},
   "outputs": [
    {
     "name": "stdout",
     "output_type": "stream",
     "text": [
      "Feature Importances in XGBoost Classifier: \n",
      "                   feature_importance\n",
      "year                         0.401193\n",
      "housing                      0.096791\n",
      "duration                     0.094990\n",
      "month                        0.059828\n",
      "day                          0.029051\n",
      "default                      0.023889\n",
      "e_tertiary                   0.021185\n",
      "j_blue-collar                0.020973\n",
      "loan                         0.020496\n",
      "campaign                     0.018375\n",
      "j_entrepreneur               0.018066\n",
      "j_services                   0.017852\n",
      "j_self-employed              0.017829\n",
      "ma_married                   0.017326\n",
      "j_housemaid                  0.017139\n",
      "balance                      0.017131\n",
      "age                          0.016204\n",
      "j_technician                 0.016076\n",
      "j_retired                    0.015892\n",
      "j_management                 0.015723\n",
      "previous                     0.014856\n",
      "j_student                    0.014772\n",
      "j_unemployed                 0.014365\n",
      "contact_prev_camp            0.000000\n"
     ]
    }
   ],
   "source": [
    "best = rs.best_estimator_\n",
    "\n",
    "## Plotting Feature Importances\n",
    "print('Feature Importances in XGBoost Classifier: ')\n",
    "print(pd.DataFrame(best.feature_importances_, index=X_test.columns\n",
    "                   , columns=['feature_importance']).sort_values(by='feature_importance', axis=0, ascending=False))\n",
    "\n",
    "# We can see that year, housing and duration continue to tbe the most important features in model predictions\n",
    "# and only contact_prev_camp has zero importance"
   ]
  },
  {
   "cell_type": "code",
   "execution_count": 135,
   "id": "a2629c78",
   "metadata": {},
   "outputs": [
    {
     "name": "stderr",
     "output_type": "stream",
     "text": [
      "C:\\Users\\joseph.pavao_tc\\anaconda3\\lib\\site-packages\\xgboost\\sklearn.py:1224: UserWarning: The use of label encoder in XGBClassifier is deprecated and will be removed in a future release. To remove this warning, do the following: 1) Pass option use_label_encoder=False when constructing XGBClassifier object; and 2) Encode your labels (y) as integers starting with 0, i.e. 0, 1, 2, ..., [num_class - 1].\n",
      "  warnings.warn(label_encoder_deprecation_msg, UserWarning)\n",
      "C:\\Users\\joseph.pavao_tc\\anaconda3\\lib\\site-packages\\xgboost\\data.py:262: FutureWarning: pandas.Int64Index is deprecated and will be removed from pandas in a future version. Use pandas.Index with the appropriate dtype instead.\n",
      "  elif isinstance(data.columns, (pd.Int64Index, pd.RangeIndex)):\n"
     ]
    },
    {
     "name": "stdout",
     "output_type": "stream",
     "text": [
      "[17:47:37] WARNING: C:/Users/Administrator/workspace/xgboost-win64_release_1.5.1/src/learner.cc:1115: Starting in XGBoost 1.3.0, the default evaluation metric used with the objective 'binary:logistic' was changed from 'error' to 'logloss'. Explicitly set eval_metric if you'd like to restore the old behavior.\n",
      "Best params: {'reg_lambda': 2, 'reg_alpha': 2, 'n_estimators': 900, 'max_depth': 10, 'learning_rate': 0.05, 'gamma': 0.5, 'booster': 'gbtree', 'base_score': 0.025}\n",
      "Best score: 0.9857643799340128\n"
     ]
    }
   ],
   "source": [
    "## Hyperpamater Tuning - Part 2\n",
    "\n",
    "# Let´s see if we can improve our tuned-model performance of 95.8% ROC AUC score on the hold-out test set\n",
    "# This takes a few minutes\n",
    "\n",
    "params_grid = {\n",
    "    'n_estimators': [200, 500, 750, 900],\n",
    "    'learning_rate': [0.01, 0.05, 0.1, 0.2],\n",
    "    'booster': ['gbtree', 'gblinear'],\n",
    "    'gamma': [0, 0.5, 1, 1.5, 2],\n",
    "    'reg_alpha': [0, 0.1, 0.5, 1, 1.5, 2],\n",
    "    'reg_lambda': [0, 0.1, 0.5, 1, 1.5, 2],\n",
    "    'base_score': [0.001, 0.025, 0.05, 0.1],\n",
    "    'max_depth' : [3, 6, 10, 15]\n",
    "}\n",
    "\n",
    "rs = RandomizedSearchCV(xgb.XGBClassifier(n_jobs=-1, eval_metric=roc_auc_score), params_grid, n_jobs=-1, cv=5, scoring='roc_auc')\n",
    "rs.fit(X_train.drop('contact_prev_camp', axis=1), y_train)\n",
    "\n",
    "print('Best params:', rs.best_params_)\n",
    "print('Best score:', rs.best_score_)\n",
    "\n",
    "# We don´t get better performance, but we get more overfitting\n",
    "# at around 99.5% ROC AUC for the full training set and 95,79% of the test hold-out set"
   ]
  },
  {
   "cell_type": "code",
   "execution_count": 136,
   "id": "210bd96d",
   "metadata": {},
   "outputs": [
    {
     "name": "stderr",
     "output_type": "stream",
     "text": [
      "C:\\Users\\joseph.pavao_tc\\anaconda3\\lib\\site-packages\\xgboost\\data.py:262: FutureWarning: pandas.Int64Index is deprecated and will be removed from pandas in a future version. Use pandas.Index with the appropriate dtype instead.\n",
      "  elif isinstance(data.columns, (pd.Int64Index, pd.RangeIndex)):\n",
      "C:\\Users\\joseph.pavao_tc\\anaconda3\\lib\\site-packages\\xgboost\\data.py:262: FutureWarning: pandas.Int64Index is deprecated and will be removed from pandas in a future version. Use pandas.Index with the appropriate dtype instead.\n",
      "  elif isinstance(data.columns, (pd.Int64Index, pd.RangeIndex)):\n"
     ]
    },
    {
     "name": "stdout",
     "output_type": "stream",
     "text": [
      "Classification Report Training: \n",
      "              precision    recall  f1-score   support\n",
      "\n",
      "           0       1.00      0.99      1.00     30540\n",
      "           1       0.99      1.00      1.00     30533\n",
      "\n",
      "    accuracy                           1.00     61073\n",
      "   macro avg       1.00      1.00      1.00     61073\n",
      "weighted avg       1.00      1.00      1.00     61073\n",
      "\n",
      "Roc auc score training:  0.9954813059253249\n",
      "-----------------------------------------------\n",
      "Classification Report Test Data: \n",
      "              precision    recall  f1-score   support\n",
      "\n",
      "           0       1.00      0.92      0.96      7631\n",
      "           1       0.92      1.00      0.96      7638\n",
      "\n",
      "    accuracy                           0.96     15269\n",
      "   macro avg       0.96      0.96      0.96     15269\n",
      "weighted avg       0.96      0.96      0.96     15269\n",
      "\n",
      "Roc auc score test 0.9579353403684184\n"
     ]
    }
   ],
   "source": [
    "## Evaluating Tuned Model Performance - Part 2\n",
    "\n",
    "y_train_pred = rs.predict(X_train.drop('contact_prev_camp', axis=1))\n",
    "y_pred = rs.predict(X_test.drop('contact_prev_camp', axis=1))\n",
    "\n",
    "print('Classification Report Training: ')\n",
    "print(classification_report(y_train, y_train_pred))\n",
    "print('Roc auc score training: ', roc_auc_score(y_train, y_train_pred))\n",
    "print('-----------------------------------------------')\n",
    "print('Classification Report Test Data: ')\n",
    "print(classification_report(y_test, y_pred))\n",
    "print('Roc auc score test', roc_auc_score(y_test, y_pred))"
   ]
  },
  {
   "cell_type": "code",
   "execution_count": 139,
   "id": "afc650a1",
   "metadata": {},
   "outputs": [
    {
     "name": "stdout",
     "output_type": "stream",
     "text": [
      "Feature Importances in XGBoost Classifier: \n",
      "                 feature_importance\n",
      "year                       0.449020\n",
      "housing                    0.105586\n",
      "duration                   0.091269\n",
      "month                      0.059999\n",
      "default                    0.027703\n",
      "day                        0.021983\n",
      "j_blue-collar              0.019174\n",
      "e_tertiary                 0.018791\n",
      "j_retired                  0.016072\n",
      "loan                       0.016053\n",
      "j_entrepreneur             0.015321\n",
      "campaign                   0.015226\n",
      "j_housemaid                0.015080\n",
      "ma_married                 0.014453\n",
      "balance                    0.014239\n",
      "j_services                 0.013919\n",
      "previous                   0.013653\n",
      "age                        0.013650\n",
      "j_self-employed            0.013511\n",
      "j_management               0.012279\n",
      "j_technician               0.011454\n",
      "j_unemployed               0.010947\n",
      "j_student                  0.010618\n"
     ]
    }
   ],
   "source": [
    "best = rs.best_estimator_\n",
    "\n",
    "## Plotting Feature Importances\n",
    "print('Feature Importances in XGBoost Classifier: ')\n",
    "print(pd.DataFrame(best.feature_importances_, index=X_test.drop('contact_prev_camp', axis=1).columns\n",
    "                   , columns=['feature_importance']).sort_values(by='feature_importance', axis=0, ascending=False))"
   ]
  },
  {
   "cell_type": "code",
   "execution_count": 140,
   "id": "a8b246c9",
   "metadata": {},
   "outputs": [],
   "source": [
    "## We can conclude that a high perfomance classifier is achievable with the data provided.\n",
    "# The steps we employed are as follows:\n",
    "\n",
    "# 1. Cleaning and standardizing data, allowing the use of a wide range of tools\n",
    "# 2. Feature Engineering, especially the construction of the 'year' variable which proved most important of all\n",
    "# 3. Balancing the dataset with upsampling on the minority class, allowing us to follow through with tools for balanced data\n",
    "# 4. Using a tree-based model out of the box like xgboost brings feature selection and a 89% ROC AUC score on the validation set.\n",
    "# 5. Tuning hyperparameters with Random Search brings our validaction ROC AUC score to over 95%, with accuracy balanced between classes."
   ]
  }
 ],
 "metadata": {
  "kernelspec": {
   "display_name": "Python 3 (ipykernel)",
   "language": "python",
   "name": "python3"
  },
  "language_info": {
   "codemirror_mode": {
    "name": "ipython",
    "version": 3
   },
   "file_extension": ".py",
   "mimetype": "text/x-python",
   "name": "python",
   "nbconvert_exporter": "python",
   "pygments_lexer": "ipython3",
   "version": "3.9.12"
  }
 },
 "nbformat": 4,
 "nbformat_minor": 5
}
